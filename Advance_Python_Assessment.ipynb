{
 "cells": [
  {
   "cell_type": "code",
   "execution_count": 3,
   "metadata": {},
   "outputs": [],
   "source": [
    "import sqlite3 as sql"
   ]
  },
  {
   "cell_type": "code",
   "execution_count": 4,
   "metadata": {},
   "outputs": [
    {
     "name": "stdout",
     "output_type": "stream",
     "text": [
      "['DataError', 'DatabaseError', 'Error', 'IntegrityError', 'InterfaceError', 'InternalError', 'NotSupportedError', 'OperationalError', 'ProgrammingError', 'Warning', '__call__', '__class__', '__delattr__', '__dir__', '__doc__', '__enter__', '__eq__', '__exit__', '__format__', '__ge__', '__getattribute__', '__gt__', '__hash__', '__init__', '__init_subclass__', '__le__', '__lt__', '__module__', '__ne__', '__new__', '__reduce__', '__reduce_ex__', '__repr__', '__setattr__', '__sizeof__', '__str__', '__subclasshook__', 'backup', 'close', 'commit', 'create_aggregate', 'create_collation', 'create_function', 'cursor', 'enable_load_extension', 'execute', 'executemany', 'executescript', 'in_transaction', 'interrupt', 'isolation_level', 'iterdump', 'load_extension', 'rollback', 'row_factory', 'set_authorizer', 'set_progress_handler', 'set_trace_callback', 'text_factory', 'total_changes']\n"
     ]
    }
   ],
   "source": [
    "data = sql.connect(\"advance_assessment.db\")\n",
    "print(dir(data))"
   ]
  },
  {
   "cell_type": "code",
   "execution_count": 5,
   "metadata": {},
   "outputs": [],
   "source": [
    "cur = data.cursor()"
   ]
  },
  {
   "cell_type": "code",
   "execution_count": 20,
   "metadata": {},
   "outputs": [
    {
     "data": {
      "text/plain": [
       "<sqlite3.Cursor at 0x23b3ce6edc0>"
      ]
     },
     "execution_count": 20,
     "metadata": {},
     "output_type": "execute_result"
    }
   ],
   "source": [
    "cur.execute(\"create table Manager(Sr_no int, Manager_Name varchar(25), Pharmacy_name varchar(25))\")"
   ]
  },
  {
   "cell_type": "code",
   "execution_count": 21,
   "metadata": {},
   "outputs": [],
   "source": [
    "cur.execute('''insert into Manager(Sr_no, Manager_Name, Pharmacy_name) values(1, \"Ramesh\", \"Jayraj pharmacy \")''')\n",
    "cur.execute('''insert into Manager(Sr_no, Manager_Name, Pharmacy_name) values(2, \"Jayesh\", \"Tomato pharmacy \")''')\n",
    "data.commit()\n"
   ]
  },
  {
   "cell_type": "code",
   "execution_count": 6,
   "metadata": {},
   "outputs": [
    {
     "data": {
      "text/plain": [
       "<sqlite3.Cursor at 0x2146116dac0>"
      ]
     },
     "execution_count": 6,
     "metadata": {},
     "output_type": "execute_result"
    }
   ],
   "source": [
    "cur.execute(\"create table Admin(Email varchar(125), Password varchar(10))\")"
   ]
  },
  {
   "cell_type": "code",
   "execution_count": 7,
   "metadata": {},
   "outputs": [],
   "source": [
    "cur.execute('''insert into Admin(Email, Password) values(\"ramesh@mail.com\", \"123456789\")''')\n",
    "cur.execute('''insert into Admin(Email, Password) values(\"jayesh@mail.com\", \"12345678\")''')\n",
    "data.commit()"
   ]
  },
  {
   "cell_type": "code",
   "execution_count": null,
   "metadata": {},
   "outputs": [],
   "source": [
    "cur.execute(\"create table Medicine(Sr_no int, Manager_Name varchar(25), Qty varchar(10), Added_date varchar(10), Added_By varchar(10), price int)\")"
   ]
  },
  {
   "cell_type": "code",
   "execution_count": null,
   "metadata": {},
   "outputs": [],
   "source": []
  },
  {
   "cell_type": "code",
   "execution_count": 26,
   "metadata": {},
   "outputs": [
    {
     "name": "stdout",
     "output_type": "stream",
     "text": [
      "1. Admin\n",
      "2. Pharmacy Manager\n",
      "1. Can Register \n",
      "    2. Can Login \n",
      "    3. Can Add Medicine \n",
      "    4. Can View Medicine \n",
      "    5. Can Delete Medicine \n",
      "    \n"
     ]
    }
   ],
   "source": [
    "print('''1. Admin\n",
    "2. Pharmacy Manager''')\n",
    "Choose = int(input(\"Choose a number:\"))\n",
    "\n",
    "if Choose == 1:\n",
    "    print('''1. Can Register \n",
    "    2. Can Login \n",
    "    3. Can Add Medicine \n",
    "    4. Can View Medicine \n",
    "    5. Can Delete Medicine \n",
    "    ''')\n",
    "\n",
    "    num = int(input(\"select Your Option: \"))\n",
    "    if num == 1:\n",
    "        pass\n",
    "    elif num == 2:\n",
    "        pass\n",
    "    elif num == 3:\n",
    "        pass\n",
    "    elif num == 4:\n",
    "        pass\n",
    "    elif num == 5:\n",
    "        pass\n",
    "    else:\n",
    "        print(\"Invalid Option\")\n",
    "\n",
    "elif Choose == 2:\n",
    "    print('''1. Can Register \n",
    "    2. Can Login \n",
    "    3. Can View all manager\n",
    "    4. Can View all medicine\n",
    "    ''')\n",
    "    \n",
    "    num = int(input(\"select Your Option\"))\n",
    "    if num == 1:\n",
    "        pass\n",
    "    elif num == 2:\n",
    "        pass\n",
    "    elif num == 3:\n",
    "        pass\n",
    "    elif num == 4:\n",
    "        pass\n",
    "    else:\n",
    "        print(\"Invalid Option\")\n",
    "\n",
    "else:\n",
    "    print(\"Invelid Number\")"
   ]
  },
  {
   "cell_type": "code",
   "execution_count": 1,
   "metadata": {},
   "outputs": [
    {
     "name": "stdout",
     "output_type": "stream",
     "text": [
      "hello\n"
     ]
    }
   ],
   "source": [
    "print(\"hello\")"
   ]
  },
  {
   "cell_type": "code",
   "execution_count": null,
   "metadata": {},
   "outputs": [],
   "source": []
  }
 ],
 "metadata": {
  "kernelspec": {
   "display_name": "Python 3 (ipykernel)",
   "language": "python",
   "name": "python3"
  },
  "language_info": {
   "codemirror_mode": {
    "name": "ipython",
    "version": 3
   },
   "file_extension": ".py",
   "mimetype": "text/x-python",
   "name": "python",
   "nbconvert_exporter": "python",
   "pygments_lexer": "ipython3",
   "version": "3.10.7"
  },
  "vscode": {
   "interpreter": {
    "hash": "a9cff5a362bc38ef45d817ae74b1af54d6a076e3d773891282bce078b815ba34"
   }
  }
 },
 "nbformat": 4,
 "nbformat_minor": 2
}
