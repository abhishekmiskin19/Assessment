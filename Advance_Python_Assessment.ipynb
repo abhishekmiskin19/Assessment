{
 "cells": [
  {
   "cell_type": "code",
   "execution_count": 2,
   "metadata": {},
   "outputs": [],
   "source": [
    "import sqlite3 as sql"
   ]
  },
  {
   "cell_type": "code",
   "execution_count": 3,
   "metadata": {},
   "outputs": [
    {
     "name": "stdout",
     "output_type": "stream",
     "text": [
      "['DataError', 'DatabaseError', 'Error', 'IntegrityError', 'InterfaceError', 'InternalError', 'NotSupportedError', 'OperationalError', 'ProgrammingError', 'Warning', '__call__', '__class__', '__delattr__', '__dir__', '__doc__', '__enter__', '__eq__', '__exit__', '__format__', '__ge__', '__getattribute__', '__gt__', '__hash__', '__init__', '__init_subclass__', '__le__', '__lt__', '__module__', '__ne__', '__new__', '__reduce__', '__reduce_ex__', '__repr__', '__setattr__', '__sizeof__', '__str__', '__subclasshook__', 'backup', 'close', 'commit', 'create_aggregate', 'create_collation', 'create_function', 'cursor', 'enable_load_extension', 'execute', 'executemany', 'executescript', 'in_transaction', 'interrupt', 'isolation_level', 'iterdump', 'load_extension', 'rollback', 'row_factory', 'set_authorizer', 'set_progress_handler', 'set_trace_callback', 'text_factory', 'total_changes']\n"
     ]
    }
   ],
   "source": [
    "conn = sql.connect(\"advance_assessment.db\")\n",
    "print(dir(conn))"
   ]
  },
  {
   "cell_type": "code",
   "execution_count": 4,
   "metadata": {},
   "outputs": [],
   "source": [
    "cur = conn.cursor()"
   ]
  },
  {
   "cell_type": "code",
   "execution_count": 6,
   "metadata": {},
   "outputs": [
    {
     "data": {
      "text/plain": [
       "<sqlite3.Cursor at 0x1c8a8babec0>"
      ]
     },
     "execution_count": 6,
     "metadata": {},
     "output_type": "execute_result"
    }
   ],
   "source": [
    "cur.execute(\"create table if not exists Manager(Sr_no INTEGER primary key autoincrement, Manager_Name varchar(25), Pharmacy_name varchar(25))\")"
   ]
  },
  {
   "cell_type": "code",
   "execution_count": 7,
   "metadata": {},
   "outputs": [],
   "source": [
    "cur.execute('''insert into Manager(Manager_Name, Pharmacy_name) values(\"Ramesh\", \"Jayraj pharmacy \")''')\n",
    "cur.execute('''insert into Manager(Manager_Name, Pharmacy_name) values(\"Jayesh\", \"Tomato pharmacy \")''')\n",
    "conn.commit()\n",
    "\n"
   ]
  },
  {
   "cell_type": "code",
   "execution_count": 8,
   "metadata": {},
   "outputs": [
    {
     "data": {
      "text/plain": [
       "<sqlite3.Cursor at 0x1c8a8babec0>"
      ]
     },
     "execution_count": 8,
     "metadata": {},
     "output_type": "execute_result"
    }
   ],
   "source": [
    "cur.execute(\"select * from Manager\")"
   ]
  },
  {
   "cell_type": "code",
   "execution_count": 9,
   "metadata": {},
   "outputs": [
    {
     "data": {
      "text/plain": [
       "[(1, 'Ramesh', 'Jayraj pharmacy '), (2, 'Jayesh', 'Tomato pharmacy ')]"
      ]
     },
     "execution_count": 9,
     "metadata": {},
     "output_type": "execute_result"
    }
   ],
   "source": [
    "cur.fetchall()"
   ]
  },
  {
   "cell_type": "code",
   "execution_count": 10,
   "metadata": {},
   "outputs": [
    {
     "data": {
      "text/plain": [
       "<sqlite3.Cursor at 0x1c8a8babec0>"
      ]
     },
     "execution_count": 10,
     "metadata": {},
     "output_type": "execute_result"
    }
   ],
   "source": [
    "cur.execute(\"create table if not exists Admin(Sr_no INTEGER primary key autoincrement, Email varchar(125), Password varchar(10))\")"
   ]
  },
  {
   "cell_type": "code",
   "execution_count": 11,
   "metadata": {},
   "outputs": [],
   "source": [
    "cur.execute('''insert into Admin(Email, Password) values(\"ramesh@mail.com\", \"123456789\")''')\n",
    "cur.execute('''insert into Admin(Email, Password) values(\"jayesh@mail.com\", \"12345678\")''')\n",
    "conn.commit()"
   ]
  },
  {
   "cell_type": "code",
   "execution_count": 12,
   "metadata": {},
   "outputs": [
    {
     "data": {
      "text/plain": [
       "<sqlite3.Cursor at 0x1c8a8babec0>"
      ]
     },
     "execution_count": 12,
     "metadata": {},
     "output_type": "execute_result"
    }
   ],
   "source": [
    "cur.execute(\"create table if not exists Medicine(Sr_no INTEGER primary key autoincrement, Medicine_Name varchar(25), Qty TEXT , Added_date varchar(10), Added_By varchar(10), price int)\")"
   ]
  },
  {
   "cell_type": "code",
   "execution_count": 13,
   "metadata": {},
   "outputs": [],
   "source": [
    "cur.execute('''insert into Medicine(Medicine_Name, Qty, Added_date, Added_By, price) values(\"Den_p\", \"10x10\", \"4/4/2022\", \"2\", 20)''')\n",
    "cur.execute('''insert into Medicine(Medicine_Name, Qty, Added_date, Added_By, price) values(\"Dolo\", \"10x10\", \"9/5/2022\", \"2\", 20)''')\n",
    "cur.execute('''insert into Medicine(Medicine_Name, Qty, Added_date, Added_By, price) values(\"OTD\", \"10x10\", \"5/6/2022\", \"2\", 20)''')\n",
    "conn.commit()"
   ]
  },
  {
   "cell_type": "code",
   "execution_count": 14,
   "metadata": {},
   "outputs": [
    {
     "data": {
      "text/plain": [
       "[(1, 'Den_p', '10x10', '4/4/2022', '2', 20),\n",
       " (2, 'Dolo', '10x10', '9/5/2022', '2', 20),\n",
       " (3, 'OTD', '10x10', '5/6/2022', '2', 20)]"
      ]
     },
     "execution_count": 14,
     "metadata": {},
     "output_type": "execute_result"
    }
   ],
   "source": [
    "cur.execute(\"select * from Medicine\")\n",
    "cur.fetchall()"
   ]
  },
  {
   "cell_type": "code",
   "execution_count": 15,
   "metadata": {},
   "outputs": [
    {
     "name": "stdout",
     "output_type": "stream",
     "text": [
      "1. Admin\n",
      "2. Pharmacy Manager\n",
      "1. Can Register \n",
      "    2. Can Login \n",
      "    3. Can Add Medicine \n",
      "    4. Can View Medicine \n",
      "    5. Can Delete Medicine \n",
      "    \n"
     ]
    }
   ],
   "source": [
    "print('''1. Admin\n",
    "2. Pharmacy Manager''')\n",
    "Choose = int(input(\"Choose a number:\"))\n",
    "\n",
    "if Choose == 1:\n",
    "    print('''1. Can Register \n",
    "    2. Can Login \n",
    "    3. Can Add Medicine \n",
    "    4. Can View Medicine \n",
    "    5. Can Delete Medicine \n",
    "    ''')\n",
    "\n",
    "    num = int(input(\"select Your Option: \"))\n",
    "    if num == 1:\n",
    "        pass\n",
    "    elif num == 2:\n",
    "        Email = input(\"Enter a Email: \")\n",
    "        Pass = input(\"Enter a Password: \")\n",
    "\n",
    "        query = f'''insert into admin(Email, Password) values{Email, Pass}'''\n",
    "        cur.execute(query)\n",
    "\n",
    "        conn.commit()\n",
    "        \n",
    "    elif num == 3: \n",
    "        \n",
    "        pass\n",
    "    elif num == 4:\n",
    "        cur.execute(\"select * from Manager\")\n",
    "        man = cur.fetchall()\n",
    "\n",
    "        if man:\n",
    "            for manager in man:\n",
    "                print(manager)\n",
    "\n",
    "    elif num == 5:\n",
    "        pass\n",
    "    else:\n",
    "        print(\"Invalid Option\")\n",
    "\n",
    "elif Choose == 2:\n",
    "    print('''1. Can Register \n",
    "    2. Can Login \n",
    "    3. Can View all manager\n",
    "    4. Can View all medicine\n",
    "    ''')\n",
    "    \n",
    "    num = int(input(\"select Your Option\"))\n",
    "    if num == 1:\n",
    "        pass\n",
    "    elif num == 2:\n",
    "        pass\n",
    "    elif num == 3:\n",
    "        cur.execute(\"select * from Manager\")\n",
    "        man = cur.fetchall()\n",
    "\n",
    "        if man:\n",
    "            for manager in man:\n",
    "                print(manager)\n",
    "        pass\n",
    "    elif num == 4:\n",
    "        cur.execute(\"select * from Medicine\")\n",
    "        med = cur.fetchall()\n",
    "\n",
    "        if med:\n",
    "            for medicine in med:\n",
    "                print(medicine)\n",
    "\n",
    "    else:\n",
    "        print(\"Invalid Option\")\n",
    "\n",
    "else:\n",
    "    print(\"Invelid Number\")"
   ]
  },
  {
   "cell_type": "code",
   "execution_count": 1,
   "metadata": {},
   "outputs": [
    {
     "name": "stdout",
     "output_type": "stream",
     "text": [
      "hello\n"
     ]
    }
   ],
   "source": [
    "print(\"hello\")"
   ]
  },
  {
   "cell_type": "code",
   "execution_count": 5,
   "metadata": {},
   "outputs": [
    {
     "name": "stdout",
     "output_type": "stream",
     "text": [
      "(1, 'Ramesh', 'Jayraj pharmacy ')\n",
      "(2, 'Jayesh', 'Tomato pharmacy ')\n"
     ]
    }
   ],
   "source": []
  },
  {
   "cell_type": "code",
   "execution_count": null,
   "metadata": {},
   "outputs": [],
   "source": []
  }
 ],
 "metadata": {
  "kernelspec": {
   "display_name": "Python 3 (ipykernel)",
   "language": "python",
   "name": "python3"
  },
  "language_info": {
   "codemirror_mode": {
    "name": "ipython",
    "version": 3
   },
   "file_extension": ".py",
   "mimetype": "text/x-python",
   "name": "python",
   "nbconvert_exporter": "python",
   "pygments_lexer": "ipython3",
   "version": "3.10.7"
  },
  "vscode": {
   "interpreter": {
    "hash": "a9cff5a362bc38ef45d817ae74b1af54d6a076e3d773891282bce078b815ba34"
   }
  }
 },
 "nbformat": 4,
 "nbformat_minor": 2
}
